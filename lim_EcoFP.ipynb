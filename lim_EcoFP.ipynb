{
  "nbformat": 4,
  "nbformat_minor": 0,
  "metadata": {
    "colab": {
      "name": "lim_EcoFP.ipynb",
      "provenance": [],
      "collapsed_sections": [],
      "mount_file_id": "1-Oe_p-lb4YUwb81h9oq7DAg2WSHVycQS",
      "authorship_tag": "ABX9TyOK9Lz9GJ/L2t2MCcM8EP6X",
      "include_colab_link": true
    },
    "kernelspec": {
      "name": "python3",
      "display_name": "Python 3"
    },
    "language_info": {
      "name": "python"
    }
  },
  "cells": [
    {
      "cell_type": "markdown",
      "metadata": {
        "id": "view-in-github",
        "colab_type": "text"
      },
      "source": [
        "<a href=\"https://colab.research.google.com/github/Flor37/Analisis-de-datos-con-Python/blob/main/lim_EcoFP.ipynb\" target=\"_parent\"><img src=\"https://colab.research.google.com/assets/colab-badge.svg\" alt=\"Open In Colab\"/></a>"
      ]
    },
    {
      "cell_type": "code",
      "metadata": {
        "id": "0lgXMPSwLEro"
      },
      "source": [
        "import pandas as pd"
      ],
      "execution_count": 1,
      "outputs": []
    },
    {
      "cell_type": "code",
      "metadata": {
        "colab": {
          "base_uri": "https://localhost:8080/",
          "height": 204
        },
        "id": "UHdOjX1OLhhQ",
        "outputId": "cee287ae-1418-4da4-82bc-5e1361491461"
      },
      "source": [
        "df = pd.read_csv('https://raw.githubusercontent.com/Flor37/Analisis-de-datos-con-Python/main/NFA2019public_data.csv')\n",
        "df.head()"
      ],
      "execution_count": 2,
      "outputs": [
        {
          "output_type": "execute_result",
          "data": {
            "text/html": [
              "<div>\n",
              "<style scoped>\n",
              "    .dataframe tbody tr th:only-of-type {\n",
              "        vertical-align: middle;\n",
              "    }\n",
              "\n",
              "    .dataframe tbody tr th {\n",
              "        vertical-align: top;\n",
              "    }\n",
              "\n",
              "    .dataframe thead th {\n",
              "        text-align: right;\n",
              "    }\n",
              "</style>\n",
              "<table border=\"1\" class=\"dataframe\">\n",
              "  <thead>\n",
              "    <tr style=\"text-align: right;\">\n",
              "      <th></th>\n",
              "      <th>country</th>\n",
              "      <th>year</th>\n",
              "      <th>country_code</th>\n",
              "      <th>record</th>\n",
              "      <th>crop_land</th>\n",
              "      <th>grazing_land</th>\n",
              "      <th>forest_land</th>\n",
              "      <th>fishing_ground</th>\n",
              "      <th>built_up_land</th>\n",
              "      <th>carbon</th>\n",
              "      <th>total</th>\n",
              "      <th>QScore</th>\n",
              "    </tr>\n",
              "  </thead>\n",
              "  <tbody>\n",
              "    <tr>\n",
              "      <th>0</th>\n",
              "      <td>Armenia</td>\n",
              "      <td>1992</td>\n",
              "      <td>1</td>\n",
              "      <td>AreaPerCap</td>\n",
              "      <td>0.140292</td>\n",
              "      <td>0.199546</td>\n",
              "      <td>0.097188</td>\n",
              "      <td>0.036888</td>\n",
              "      <td>0.029320</td>\n",
              "      <td>0.000000</td>\n",
              "      <td>5.032351e-01</td>\n",
              "      <td>3A</td>\n",
              "    </tr>\n",
              "    <tr>\n",
              "      <th>1</th>\n",
              "      <td>Armenia</td>\n",
              "      <td>1992</td>\n",
              "      <td>1</td>\n",
              "      <td>AreaTotHA</td>\n",
              "      <td>483000.000000</td>\n",
              "      <td>687000.000000</td>\n",
              "      <td>334600.000000</td>\n",
              "      <td>127000.000000</td>\n",
              "      <td>100943.000800</td>\n",
              "      <td>0.000000</td>\n",
              "      <td>1.732543e+06</td>\n",
              "      <td>3A</td>\n",
              "    </tr>\n",
              "    <tr>\n",
              "      <th>2</th>\n",
              "      <td>Armenia</td>\n",
              "      <td>1992</td>\n",
              "      <td>1</td>\n",
              "      <td>BiocapPerCap</td>\n",
              "      <td>0.159804</td>\n",
              "      <td>0.135261</td>\n",
              "      <td>0.084003</td>\n",
              "      <td>0.013742</td>\n",
              "      <td>0.033398</td>\n",
              "      <td>0.000000</td>\n",
              "      <td>4.262086e-01</td>\n",
              "      <td>3A</td>\n",
              "    </tr>\n",
              "    <tr>\n",
              "      <th>3</th>\n",
              "      <td>Armenia</td>\n",
              "      <td>1992</td>\n",
              "      <td>1</td>\n",
              "      <td>BiocapTotGHA</td>\n",
              "      <td>550176.242700</td>\n",
              "      <td>465677.972200</td>\n",
              "      <td>289207.107800</td>\n",
              "      <td>47311.551720</td>\n",
              "      <td>114982.279300</td>\n",
              "      <td>0.000000</td>\n",
              "      <td>1.467355e+06</td>\n",
              "      <td>3A</td>\n",
              "    </tr>\n",
              "    <tr>\n",
              "      <th>4</th>\n",
              "      <td>Armenia</td>\n",
              "      <td>1992</td>\n",
              "      <td>1</td>\n",
              "      <td>EFConsPerCap</td>\n",
              "      <td>0.387510</td>\n",
              "      <td>0.189462</td>\n",
              "      <td>0.000001</td>\n",
              "      <td>0.004165</td>\n",
              "      <td>0.033398</td>\n",
              "      <td>1.114093</td>\n",
              "      <td>1.728629e+00</td>\n",
              "      <td>3A</td>\n",
              "    </tr>\n",
              "  </tbody>\n",
              "</table>\n",
              "</div>"
            ],
            "text/plain": [
              "   country  year  country_code  ...    carbon         total  QScore\n",
              "0  Armenia  1992             1  ...  0.000000  5.032351e-01      3A\n",
              "1  Armenia  1992             1  ...  0.000000  1.732543e+06      3A\n",
              "2  Armenia  1992             1  ...  0.000000  4.262086e-01      3A\n",
              "3  Armenia  1992             1  ...  0.000000  1.467355e+06      3A\n",
              "4  Armenia  1992             1  ...  1.114093  1.728629e+00      3A\n",
              "\n",
              "[5 rows x 12 columns]"
            ]
          },
          "metadata": {
            "tags": []
          },
          "execution_count": 2
        }
      ]
    },
    {
      "cell_type": "code",
      "metadata": {
        "id": "tOxLKzPoMh3B"
      },
      "source": [
        "df = df.drop(columns=['country_code'])"
      ],
      "execution_count": null,
      "outputs": []
    },
    {
      "cell_type": "code",
      "metadata": {
        "colab": {
          "base_uri": "https://localhost:8080/"
        },
        "id": "vWvKFdG5zcB0",
        "outputId": "c68e5ccc-be6e-4346-a296-d04c6a30cbe4"
      },
      "source": [
        "df.columns = ['país', 'año', 'registro', 'tierras_cultivo', 'tierras_pastoreo', 'áreas_forestales','zonas_pesca','tierras_construidas', 'carbono', 'totalHG', 'QScore']\n",
        "df.columns"
      ],
      "execution_count": null,
      "outputs": [
        {
          "output_type": "execute_result",
          "data": {
            "text/plain": [
              "Index(['país', 'año', 'registro', 'tierras_cultivo', 'tierras_pastoreo',\n",
              "       'áreas_forestales', 'zonas_pesca', 'tierras_construidas', 'carbono',\n",
              "       'totalHG', 'QScore'],\n",
              "      dtype='object')"
            ]
          },
          "metadata": {
            "tags": []
          },
          "execution_count": 33
        }
      ]
    },
    {
      "cell_type": "code",
      "metadata": {
        "id": "P-qIlMgXEhQj"
      },
      "source": [
        "df['país'] = df['país'].replace(['Venezuela, Bolivarian Republic of', 'Guinea-Bissau', \"Côte d'Ivoire\", 'Libyan Arab Jamahiriya',\n",
        "                                 'Congo', 'Congo, Democratic Republic of', 'Tanzania, United Republic of', 'Serbia',\n",
        "                                 'Macedonia TFYR', 'Syrian Arab Republic', 'Iran, Islamic Republic of', 'Russian Federation',\n",
        "                                 \"Korea, Democratic People's Republic of\", 'Korea, Republic of', \"Lao People's Democratic Republic\",\n",
        "                                 'Viet Nam'],['Venezuela', 'Guinea Bissau', 'Ivory Coast', 'Libya', 'Republic of Congo',\n",
        "                                              'Democratic Republic of the Congo', 'United Republic of Tanzania', 'Republic of Serbia',\n",
        "                                              'Macedonia', 'Syria', 'Iran', 'Russia', 'North Korea', 'South Korea', 'Laos',\n",
        "                                              'Vietnam'])"
      ],
      "execution_count": null,
      "outputs": []
    },
    {
      "cell_type": "code",
      "metadata": {
        "colab": {
          "base_uri": "https://localhost:8080/",
          "height": 224
        },
        "id": "wYDieuP2RDO5",
        "outputId": "95914497-2d7d-4309-89df-8fe5205c9f7a"
      },
      "source": [
        "df.head()"
      ],
      "execution_count": null,
      "outputs": [
        {
          "output_type": "execute_result",
          "data": {
            "text/html": [
              "<div>\n",
              "<style scoped>\n",
              "    .dataframe tbody tr th:only-of-type {\n",
              "        vertical-align: middle;\n",
              "    }\n",
              "\n",
              "    .dataframe tbody tr th {\n",
              "        vertical-align: top;\n",
              "    }\n",
              "\n",
              "    .dataframe thead th {\n",
              "        text-align: right;\n",
              "    }\n",
              "</style>\n",
              "<table border=\"1\" class=\"dataframe\">\n",
              "  <thead>\n",
              "    <tr style=\"text-align: right;\">\n",
              "      <th></th>\n",
              "      <th>país</th>\n",
              "      <th>año</th>\n",
              "      <th>registro</th>\n",
              "      <th>tierras_cultivo</th>\n",
              "      <th>tierras_pastoreo</th>\n",
              "      <th>áreas_forestales</th>\n",
              "      <th>zonas_pesca</th>\n",
              "      <th>tierras_construidas</th>\n",
              "      <th>carbono</th>\n",
              "      <th>totalHG</th>\n",
              "      <th>QScore</th>\n",
              "    </tr>\n",
              "  </thead>\n",
              "  <tbody>\n",
              "    <tr>\n",
              "      <th>0</th>\n",
              "      <td>Armenia</td>\n",
              "      <td>1992</td>\n",
              "      <td>AreaPerCap</td>\n",
              "      <td>0.140292</td>\n",
              "      <td>0.199546</td>\n",
              "      <td>0.097188</td>\n",
              "      <td>0.036888</td>\n",
              "      <td>0.029320</td>\n",
              "      <td>0.000000</td>\n",
              "      <td>5.032351e-01</td>\n",
              "      <td>3A</td>\n",
              "    </tr>\n",
              "    <tr>\n",
              "      <th>1</th>\n",
              "      <td>Armenia</td>\n",
              "      <td>1992</td>\n",
              "      <td>AreaTotHA</td>\n",
              "      <td>483000.000000</td>\n",
              "      <td>687000.000000</td>\n",
              "      <td>334600.000000</td>\n",
              "      <td>127000.000000</td>\n",
              "      <td>100943.000800</td>\n",
              "      <td>0.000000</td>\n",
              "      <td>1.732543e+06</td>\n",
              "      <td>3A</td>\n",
              "    </tr>\n",
              "    <tr>\n",
              "      <th>2</th>\n",
              "      <td>Armenia</td>\n",
              "      <td>1992</td>\n",
              "      <td>BiocapPerCap</td>\n",
              "      <td>0.159804</td>\n",
              "      <td>0.135261</td>\n",
              "      <td>0.084003</td>\n",
              "      <td>0.013742</td>\n",
              "      <td>0.033398</td>\n",
              "      <td>0.000000</td>\n",
              "      <td>4.262086e-01</td>\n",
              "      <td>3A</td>\n",
              "    </tr>\n",
              "    <tr>\n",
              "      <th>3</th>\n",
              "      <td>Armenia</td>\n",
              "      <td>1992</td>\n",
              "      <td>BiocapTotGHA</td>\n",
              "      <td>550176.242700</td>\n",
              "      <td>465677.972200</td>\n",
              "      <td>289207.107800</td>\n",
              "      <td>47311.551720</td>\n",
              "      <td>114982.279300</td>\n",
              "      <td>0.000000</td>\n",
              "      <td>1.467355e+06</td>\n",
              "      <td>3A</td>\n",
              "    </tr>\n",
              "    <tr>\n",
              "      <th>4</th>\n",
              "      <td>Armenia</td>\n",
              "      <td>1992</td>\n",
              "      <td>EFConsPerCap</td>\n",
              "      <td>0.387510</td>\n",
              "      <td>0.189462</td>\n",
              "      <td>0.000001</td>\n",
              "      <td>0.004165</td>\n",
              "      <td>0.033398</td>\n",
              "      <td>1.114093</td>\n",
              "      <td>1.728629e+00</td>\n",
              "      <td>3A</td>\n",
              "    </tr>\n",
              "  </tbody>\n",
              "</table>\n",
              "</div>"
            ],
            "text/plain": [
              "      país   año      registro  ...   carbono       totalHG  QScore\n",
              "0  Armenia  1992    AreaPerCap  ...  0.000000  5.032351e-01      3A\n",
              "1  Armenia  1992     AreaTotHA  ...  0.000000  1.732543e+06      3A\n",
              "2  Armenia  1992  BiocapPerCap  ...  0.000000  4.262086e-01      3A\n",
              "3  Armenia  1992  BiocapTotGHA  ...  0.000000  1.467355e+06      3A\n",
              "4  Armenia  1992  EFConsPerCap  ...  1.114093  1.728629e+00      3A\n",
              "\n",
              "[5 rows x 11 columns]"
            ]
          },
          "metadata": {
            "tags": []
          },
          "execution_count": 35
        }
      ]
    },
    {
      "cell_type": "code",
      "metadata": {
        "colab": {
          "base_uri": "https://localhost:8080/"
        },
        "id": "mVIYn1a2U2Hk",
        "outputId": "17b5327c-d8fd-4982-b072-0ffa7ef31b1b"
      },
      "source": [
        "df.info()"
      ],
      "execution_count": null,
      "outputs": [
        {
          "output_type": "stream",
          "text": [
            "<class 'pandas.core.frame.DataFrame'>\n",
            "RangeIndex: 72181 entries, 0 to 72180\n",
            "Data columns (total 11 columns):\n",
            " #   Column               Non-Null Count  Dtype  \n",
            "---  ------               --------------  -----  \n",
            " 0   país                 72181 non-null  object \n",
            " 1   año                  72181 non-null  int64  \n",
            " 2   registro             72181 non-null  object \n",
            " 3   tierras_cultivo      51709 non-null  float64\n",
            " 4   tierras_pastoreo     51709 non-null  float64\n",
            " 5   áreas_forestales     51709 non-null  float64\n",
            " 6   zonas_pesca          51709 non-null  float64\n",
            " 7   tierras_construidas  51709 non-null  float64\n",
            " 8   carbono              51709 non-null  float64\n",
            " 9   totalHG              72173 non-null  float64\n",
            " 10  QScore               72181 non-null  object \n",
            "dtypes: float64(7), int64(1), object(3)\n",
            "memory usage: 6.1+ MB\n"
          ],
          "name": "stdout"
        }
      ]
    },
    {
      "cell_type": "code",
      "metadata": {
        "colab": {
          "base_uri": "https://localhost:8080/"
        },
        "id": "4__zl8SXga0o",
        "outputId": "58953133-adee-4a9d-94b6-b9d166377041"
      },
      "source": [
        "#df['forest_land'].astype(float)"
      ],
      "execution_count": null,
      "outputs": [
        {
          "output_type": "execute_result",
          "data": {
            "text/plain": [
              "0        9.718805e-02\n",
              "1        3.346000e+05\n",
              "2        8.400321e-02\n",
              "3        2.892071e+05\n",
              "4        1.260000e-06\n",
              "             ...     \n",
              "72176    5.111763e+09\n",
              "72177    2.734954e-01\n",
              "72178    2.042179e+09\n",
              "72179    2.734954e-01\n",
              "72180    2.042179e+09\n",
              "Name: forest_land, Length: 72181, dtype: float64"
            ]
          },
          "metadata": {
            "tags": []
          },
          "execution_count": 99
        }
      ]
    },
    {
      "cell_type": "code",
      "metadata": {
        "id": "RVixirjhxqoo"
      },
      "source": [
        "df = df.fillna(0)"
      ],
      "execution_count": null,
      "outputs": []
    },
    {
      "cell_type": "code",
      "metadata": {
        "id": "x48HHiJ2fqhE"
      },
      "source": [
        "EcoFP = pd.DataFrame(df)"
      ],
      "execution_count": null,
      "outputs": []
    },
    {
      "cell_type": "code",
      "metadata": {
        "id": "6Y-nG5Zute-N"
      },
      "source": [
        "EcoFP.to_csv('EcoFP.csv', index=False)"
      ],
      "execution_count": null,
      "outputs": []
    },
    {
      "cell_type": "code",
      "metadata": {
        "colab": {
          "base_uri": "https://localhost:8080/",
          "height": 439
        },
        "id": "rt_HtjjHtjH2",
        "outputId": "9c517f2f-ca22-4d6d-8c74-d5fb731cdc9c"
      },
      "source": [
        "pd.read_csv('/content/EcoFP.csv')"
      ],
      "execution_count": null,
      "outputs": [
        {
          "output_type": "execute_result",
          "data": {
            "text/html": [
              "<div>\n",
              "<style scoped>\n",
              "    .dataframe tbody tr th:only-of-type {\n",
              "        vertical-align: middle;\n",
              "    }\n",
              "\n",
              "    .dataframe tbody tr th {\n",
              "        vertical-align: top;\n",
              "    }\n",
              "\n",
              "    .dataframe thead th {\n",
              "        text-align: right;\n",
              "    }\n",
              "</style>\n",
              "<table border=\"1\" class=\"dataframe\">\n",
              "  <thead>\n",
              "    <tr style=\"text-align: right;\">\n",
              "      <th></th>\n",
              "      <th>país</th>\n",
              "      <th>año</th>\n",
              "      <th>registro</th>\n",
              "      <th>tierras_cultivo</th>\n",
              "      <th>tierras_pastoreo</th>\n",
              "      <th>áreas_forestales</th>\n",
              "      <th>zonas_pesca</th>\n",
              "      <th>tierras_construidas</th>\n",
              "      <th>carbono</th>\n",
              "      <th>totalHG</th>\n",
              "      <th>QScore</th>\n",
              "    </tr>\n",
              "  </thead>\n",
              "  <tbody>\n",
              "    <tr>\n",
              "      <th>0</th>\n",
              "      <td>Armenia</td>\n",
              "      <td>1992</td>\n",
              "      <td>AreaPerCap</td>\n",
              "      <td>1.402924e-01</td>\n",
              "      <td>1.995463e-01</td>\n",
              "      <td>9.718805e-02</td>\n",
              "      <td>3.688847e-02</td>\n",
              "      <td>2.931995e-02</td>\n",
              "      <td>0.000000e+00</td>\n",
              "      <td>5.032351e-01</td>\n",
              "      <td>3A</td>\n",
              "    </tr>\n",
              "    <tr>\n",
              "      <th>1</th>\n",
              "      <td>Armenia</td>\n",
              "      <td>1992</td>\n",
              "      <td>AreaTotHA</td>\n",
              "      <td>4.830000e+05</td>\n",
              "      <td>6.870000e+05</td>\n",
              "      <td>3.346000e+05</td>\n",
              "      <td>1.270000e+05</td>\n",
              "      <td>1.009430e+05</td>\n",
              "      <td>0.000000e+00</td>\n",
              "      <td>1.732543e+06</td>\n",
              "      <td>3A</td>\n",
              "    </tr>\n",
              "    <tr>\n",
              "      <th>2</th>\n",
              "      <td>Armenia</td>\n",
              "      <td>1992</td>\n",
              "      <td>BiocapPerCap</td>\n",
              "      <td>1.598044e-01</td>\n",
              "      <td>1.352610e-01</td>\n",
              "      <td>8.400321e-02</td>\n",
              "      <td>1.374213e-02</td>\n",
              "      <td>3.339780e-02</td>\n",
              "      <td>0.000000e+00</td>\n",
              "      <td>4.262086e-01</td>\n",
              "      <td>3A</td>\n",
              "    </tr>\n",
              "    <tr>\n",
              "      <th>3</th>\n",
              "      <td>Armenia</td>\n",
              "      <td>1992</td>\n",
              "      <td>BiocapTotGHA</td>\n",
              "      <td>5.501762e+05</td>\n",
              "      <td>4.656780e+05</td>\n",
              "      <td>2.892071e+05</td>\n",
              "      <td>4.731155e+04</td>\n",
              "      <td>1.149823e+05</td>\n",
              "      <td>0.000000e+00</td>\n",
              "      <td>1.467355e+06</td>\n",
              "      <td>3A</td>\n",
              "    </tr>\n",
              "    <tr>\n",
              "      <th>4</th>\n",
              "      <td>Armenia</td>\n",
              "      <td>1992</td>\n",
              "      <td>EFConsPerCap</td>\n",
              "      <td>3.875102e-01</td>\n",
              "      <td>1.894622e-01</td>\n",
              "      <td>1.260000e-06</td>\n",
              "      <td>4.164833e-03</td>\n",
              "      <td>3.339780e-02</td>\n",
              "      <td>1.114093e+00</td>\n",
              "      <td>1.728629e+00</td>\n",
              "      <td>3A</td>\n",
              "    </tr>\n",
              "    <tr>\n",
              "      <th>...</th>\n",
              "      <td>...</td>\n",
              "      <td>...</td>\n",
              "      <td>...</td>\n",
              "      <td>...</td>\n",
              "      <td>...</td>\n",
              "      <td>...</td>\n",
              "      <td>...</td>\n",
              "      <td>...</td>\n",
              "      <td>...</td>\n",
              "      <td>...</td>\n",
              "      <td>...</td>\n",
              "    </tr>\n",
              "    <tr>\n",
              "      <th>72176</th>\n",
              "      <td>World</td>\n",
              "      <td>2016</td>\n",
              "      <td>BiocapTotGHA</td>\n",
              "      <td>3.984702e+09</td>\n",
              "      <td>1.504757e+09</td>\n",
              "      <td>5.111763e+09</td>\n",
              "      <td>1.095445e+09</td>\n",
              "      <td>4.726163e+08</td>\n",
              "      <td>0.000000e+00</td>\n",
              "      <td>1.216928e+10</td>\n",
              "      <td>3A</td>\n",
              "    </tr>\n",
              "    <tr>\n",
              "      <th>72177</th>\n",
              "      <td>World</td>\n",
              "      <td>2016</td>\n",
              "      <td>EFConsPerCap</td>\n",
              "      <td>5.336445e-01</td>\n",
              "      <td>1.402092e-01</td>\n",
              "      <td>2.734954e-01</td>\n",
              "      <td>8.974253e-02</td>\n",
              "      <td>6.329435e-02</td>\n",
              "      <td>1.646235e+00</td>\n",
              "      <td>2.746619e+00</td>\n",
              "      <td>3A</td>\n",
              "    </tr>\n",
              "    <tr>\n",
              "      <th>72178</th>\n",
              "      <td>World</td>\n",
              "      <td>2016</td>\n",
              "      <td>EFConsTotGHA</td>\n",
              "      <td>3.984702e+09</td>\n",
              "      <td>1.046937e+09</td>\n",
              "      <td>2.042179e+09</td>\n",
              "      <td>6.701039e+08</td>\n",
              "      <td>4.726163e+08</td>\n",
              "      <td>1.229237e+10</td>\n",
              "      <td>2.050891e+10</td>\n",
              "      <td>3A</td>\n",
              "    </tr>\n",
              "    <tr>\n",
              "      <th>72179</th>\n",
              "      <td>World</td>\n",
              "      <td>2016</td>\n",
              "      <td>EFProdPerCap</td>\n",
              "      <td>5.336445e-01</td>\n",
              "      <td>1.402092e-01</td>\n",
              "      <td>2.734954e-01</td>\n",
              "      <td>8.974253e-02</td>\n",
              "      <td>6.329435e-02</td>\n",
              "      <td>1.646235e+00</td>\n",
              "      <td>2.746619e+00</td>\n",
              "      <td>3A</td>\n",
              "    </tr>\n",
              "    <tr>\n",
              "      <th>72180</th>\n",
              "      <td>World</td>\n",
              "      <td>2016</td>\n",
              "      <td>EFProdTotGHA</td>\n",
              "      <td>3.984702e+09</td>\n",
              "      <td>1.046937e+09</td>\n",
              "      <td>2.042179e+09</td>\n",
              "      <td>6.701039e+08</td>\n",
              "      <td>4.726163e+08</td>\n",
              "      <td>1.229237e+10</td>\n",
              "      <td>2.050891e+10</td>\n",
              "      <td>3A</td>\n",
              "    </tr>\n",
              "  </tbody>\n",
              "</table>\n",
              "<p>72181 rows × 11 columns</p>\n",
              "</div>"
            ],
            "text/plain": [
              "          país   año      registro  ...       carbono       totalHG  QScore\n",
              "0      Armenia  1992    AreaPerCap  ...  0.000000e+00  5.032351e-01      3A\n",
              "1      Armenia  1992     AreaTotHA  ...  0.000000e+00  1.732543e+06      3A\n",
              "2      Armenia  1992  BiocapPerCap  ...  0.000000e+00  4.262086e-01      3A\n",
              "3      Armenia  1992  BiocapTotGHA  ...  0.000000e+00  1.467355e+06      3A\n",
              "4      Armenia  1992  EFConsPerCap  ...  1.114093e+00  1.728629e+00      3A\n",
              "...        ...   ...           ...  ...           ...           ...     ...\n",
              "72176    World  2016  BiocapTotGHA  ...  0.000000e+00  1.216928e+10      3A\n",
              "72177    World  2016  EFConsPerCap  ...  1.646235e+00  2.746619e+00      3A\n",
              "72178    World  2016  EFConsTotGHA  ...  1.229237e+10  2.050891e+10      3A\n",
              "72179    World  2016  EFProdPerCap  ...  1.646235e+00  2.746619e+00      3A\n",
              "72180    World  2016  EFProdTotGHA  ...  1.229237e+10  2.050891e+10      3A\n",
              "\n",
              "[72181 rows x 11 columns]"
            ]
          },
          "metadata": {
            "tags": []
          },
          "execution_count": 40
        }
      ]
    }
  ]
}